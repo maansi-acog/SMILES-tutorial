{
  "cells": [
    {
      "cell_type": "markdown",
      "id": "9867e618",
      "metadata": {
        "id": "9867e618"
      },
      "source": [
        "## Recursive SMARTS\n",
        "\n",
        "In this notebook, we'll cover recursive SMARTS, a powerful technique for matching specific chemical features.  In contrast to a standard SMARTS pattern, where each atom in the pattern matches an atom in the target molecule, recursive SMARTS match a **single atom** and its surrounding environment.  As such, recursive SMARTS, are ideal when we want to assign labels to specific atoms.  As we will see below, the flexibility of recursive SMARTS also makes them helpful for several other purposes."
      ]
    },
    {
      "cell_type": "markdown",
      "id": "4ee76e9afa2762d7",
      "metadata": {
        "id": "4ee76e9afa2762d7"
      },
      "source": [
        "Install the necessary Python libraries"
      ]
    },
    {
      "cell_type": "code",
      "id": "ca045bf8634e3569",
      "metadata": {
        "ExecuteTime": {
          "end_time": "2025-05-05T16:56:05.712194Z",
          "start_time": "2025-05-05T16:56:05.709250Z"
        },
        "id": "ca045bf8634e3569"
      },
      "source": [
        "%%capture\n",
        "import sys\n",
        "IN_COLAB = 'google.colab' in sys.modules\n",
        "if IN_COLAB:\n",
        "    !pip install rdkit"
      ],
      "outputs": [],
      "execution_count": null
    },
    {
      "cell_type": "code",
      "id": "e87cdaa5",
      "metadata": {
        "ExecuteTime": {
          "end_time": "2025-05-05T16:56:05.883822Z",
          "start_time": "2025-05-05T16:56:05.721432Z"
        },
        "id": "e87cdaa5"
      },
      "source": [
        "from rdkit import Chem\n",
        "from rdkit.Chem.Draw import MolsToGridImage"
      ],
      "outputs": [],
      "execution_count": null
    },
    {
      "cell_type": "markdown",
      "id": "6260d48b",
      "metadata": {
        "id": "6260d48b"
      },
      "source": [
        "To begin, let's define an example molecule with two different sidechains, a carboxylic acid and an aldehyde."
      ]
    },
    {
      "cell_type": "code",
      "id": "b28a90e6",
      "metadata": {
        "ExecuteTime": {
          "end_time": "2025-05-05T16:56:06.044416Z",
          "start_time": "2025-05-05T16:56:06.037539Z"
        },
        "id": "b28a90e6"
      },
      "source": [
        "m1 = Chem.MolFromSmiles(\"OC(=O)c1cccc(C=O)c1\")"
      ],
      "outputs": [],
      "execution_count": 3
    },
    {
      "cell_type": "code",
      "id": "075ee70e",
      "metadata": {
        "ExecuteTime": {
          "end_time": "2025-05-05T16:56:06.053966Z",
          "start_time": "2025-05-05T16:56:06.048170Z"
        },
        "id": "075ee70e",
        "outputId": "0b1fe37b-1176-46d5-8036-2d877fd57824"
      },
      "source": [
        "m1"
      ],
      "outputs": [
        {
          "data": {
            "text/plain": [
              "<rdkit.Chem.rdchem.Mol at 0x369302dc0>"
            ],
            "image/png": "[encoded data removed]"
          },
          "execution_count": 4,
          "metadata": {},
          "output_type": "execute_result"
        }
      ],
      "execution_count": null
    },
    {
      "cell_type": "markdown",
      "id": "550358ca",
      "metadata": {
        "id": "550358ca"
      },
      "source": [
        "If we define a SMARTS for a carbxoylic acid, the pattern matches 3 heavy (non-hydrogen) atoms.  Remember that hydrogens in a SMARTS are simply specifiers for the attached heavy atom."
      ]
    },
    {
      "cell_type": "code",
      "id": "2f25b182",
      "metadata": {
        "ExecuteTime": {
          "end_time": "2025-05-05T16:56:06.059600Z",
          "start_time": "2025-05-05T16:56:06.058131Z"
        },
        "id": "2f25b182"
      },
      "source": [
        "simple_acid_smarts = \"C(=O)[OH]\"\n",
        "simple_acid_query = Chem.MolFromSmarts(simple_acid_smarts)"
      ],
      "outputs": [],
      "execution_count": 4
    },
    {
      "cell_type": "code",
      "id": "636d5565",
      "metadata": {
        "ExecuteTime": {
          "end_time": "2025-05-05T16:56:06.069001Z",
          "start_time": "2025-05-05T16:56:06.067158Z"
        },
        "id": "636d5565",
        "outputId": "e548c529-bd93-402f-d1cd-485afdf9b283",
        "colab": {
          "base_uri": "https://localhost:8080/"
        }
      },
      "source": [
        "m1.GetSubstructMatches(simple_acid_query)"
      ],
      "outputs": [
        {
          "output_type": "execute_result",
          "data": {
            "text/plain": [
              "((1, 2, 0),)"
            ]
          },
          "metadata": {},
          "execution_count": 5
        }
      ],
      "execution_count": 5
    },
    {
      "cell_type": "code",
      "id": "fb32e055",
      "metadata": {
        "ExecuteTime": {
          "end_time": "2025-05-05T16:56:06.082759Z",
          "start_time": "2025-05-05T16:56:06.077411Z"
        },
        "id": "fb32e055",
        "outputId": "eb5aa659-c361-43cf-b038-41552f37cf84",
        "colab": {
          "base_uri": "https://localhost:8080/",
          "height": 167
        }
      },
      "source": [
        "m1"
      ],
      "outputs": [
        {
          "output_type": "execute_result",
          "data": {
            "text/plain": [
              "<rdkit.Chem.rdchem.Mol at 0x7a6016d018c0>"
            ],
            "image/png": "[encoded data removed]"
          },
          "metadata": {},
          "execution_count": 6
        }
      ],
      "execution_count": 6
    },
    {
      "cell_type": "markdown",
      "id": "c9ad5659",
      "metadata": {
        "id": "c9ad5659"
      },
      "source": [
        "In a recursive SMARTS, the smarts is enclosed by **\\[$()\\]**.  This indicates that only the first atom in the SMARTS should be matched.  Let's change the carboxylic acid SMARTS above to a recursive SMARTS."
      ]
    },
    {
      "cell_type": "code",
      "id": "78b56703",
      "metadata": {
        "ExecuteTime": {
          "end_time": "2025-05-05T16:56:06.092817Z",
          "start_time": "2025-05-05T16:56:06.091267Z"
        },
        "id": "78b56703"
      },
      "source": [
        "recursive_acid_smarts = \"[$(C(=O)[OH])]\"\n",
        "recursive_acid_query = Chem.MolFromSmarts(recursive_acid_smarts)"
      ],
      "outputs": [],
      "execution_count": 7
    },
    {
      "cell_type": "markdown",
      "id": "6ee6278e",
      "metadata": {
        "id": "6ee6278e"
      },
      "source": [
        "Note that the recursive SMARTS only matches one atom, the first atom in the pattern."
      ]
    },
    {
      "cell_type": "code",
      "id": "30be152c",
      "metadata": {
        "ExecuteTime": {
          "end_time": "2025-05-05T16:56:06.098846Z",
          "start_time": "2025-05-05T16:56:06.096866Z"
        },
        "id": "30be152c",
        "outputId": "4a9dbdc4-92cf-4d23-e523-2e941dcde87c",
        "colab": {
          "base_uri": "https://localhost:8080/"
        }
      },
      "source": [
        "m1.GetSubstructMatches(recursive_acid_query)"
      ],
      "outputs": [
        {
          "output_type": "execute_result",
          "data": {
            "text/plain": [
              "((1,),)"
            ]
          },
          "metadata": {},
          "execution_count": 8
        }
      ],
      "execution_count": 8
    },
    {
      "cell_type": "code",
      "id": "5e881c64",
      "metadata": {
        "ExecuteTime": {
          "end_time": "2025-05-05T16:56:06.110010Z",
          "start_time": "2025-05-05T16:56:06.105308Z"
        },
        "id": "5e881c64",
        "outputId": "b07034dd-ed83-4d46-8530-b7fc73f53cc9",
        "colab": {
          "base_uri": "https://localhost:8080/",
          "height": 167
        }
      },
      "source": [
        "m1"
      ],
      "outputs": [
        {
          "output_type": "execute_result",
          "data": {
            "text/plain": [
              "<rdkit.Chem.rdchem.Mol at 0x7a6016d018c0>"
            ],
            "image/png": "[encoded data removed]"
          },
          "metadata": {},
          "execution_count": 9
        }
      ],
      "execution_count": 9
    },
    {
      "cell_type": "markdown",
      "id": "3cd1e78c",
      "metadata": {
        "id": "3cd1e78c"
      },
      "source": [
        "Let's rewrite the SMARTS and make the carboxylate oxygen the first atom.  Now notice that the matched atom changes."
      ]
    },
    {
      "cell_type": "code",
      "id": "9a24c4c2",
      "metadata": {
        "ExecuteTime": {
          "end_time": "2025-05-05T16:56:06.119376Z",
          "start_time": "2025-05-05T16:56:06.117764Z"
        },
        "id": "9a24c4c2"
      },
      "source": [
        "rearranged_recursive_smarts = \"[$([OH]C(=O))]\"\n",
        "rearranged_recursive_query = Chem.MolFromSmarts(rearranged_recursive_smarts)"
      ],
      "outputs": [],
      "execution_count": 10
    },
    {
      "cell_type": "code",
      "id": "77f53674",
      "metadata": {
        "ExecuteTime": {
          "end_time": "2025-05-05T16:56:06.125806Z",
          "start_time": "2025-05-05T16:56:06.123802Z"
        },
        "id": "77f53674",
        "outputId": "5312a6ba-25b0-4190-94b3-897d1be2bae7",
        "colab": {
          "base_uri": "https://localhost:8080/"
        }
      },
      "source": [
        "m1.GetSubstructMatches(rearranged_recursive_query)"
      ],
      "outputs": [
        {
          "output_type": "execute_result",
          "data": {
            "text/plain": [
              "((0,),)"
            ]
          },
          "metadata": {},
          "execution_count": 11
        }
      ],
      "execution_count": 11
    },
    {
      "cell_type": "code",
      "id": "773810e2",
      "metadata": {
        "ExecuteTime": {
          "end_time": "2025-05-05T16:56:06.138843Z",
          "start_time": "2025-05-05T16:56:06.134379Z"
        },
        "id": "773810e2",
        "outputId": "cfe109da-931d-4135-f036-e5906b5c1d9c",
        "colab": {
          "base_uri": "https://localhost:8080/",
          "height": 167
        }
      },
      "source": [
        "m1"
      ],
      "outputs": [
        {
          "output_type": "execute_result",
          "data": {
            "text/plain": [
              "<rdkit.Chem.rdchem.Mol at 0x7a6016d018c0>"
            ],
            "image/png": "[encoded data removed]"
          },
          "metadata": {},
          "execution_count": 12
        }
      ],
      "execution_count": 12
    },
    {
      "cell_type": "markdown",
      "id": "2fe175c1",
      "metadata": {
        "id": "2fe175c1"
      },
      "source": [
        "Recursive SMARTS can also be combined to create more complex queries.  Queries can be combined with **\"&\"** for AND or **\",\"** for OR.   There is also the **\";\"** operator, which represents AND with a lower priority than OR. In the example below, the carbonyl query below two atoms in the target molecule."
      ]
    },
    {
      "cell_type": "code",
      "id": "8c363076",
      "metadata": {
        "ExecuteTime": {
          "end_time": "2025-05-05T16:56:06.152300Z",
          "start_time": "2025-05-05T16:56:06.147470Z"
        },
        "id": "8c363076",
        "outputId": "d4c67604-ded5-4333-bb71-0c94a888a074",
        "colab": {
          "base_uri": "https://localhost:8080/",
          "height": 167
        }
      },
      "source": [
        "combo_query = Chem.MolFromSmarts(\"[$(C=O)]\")\n",
        "m1.GetSubstructMatches(combo_query)\n",
        "m1"
      ],
      "outputs": [
        {
          "output_type": "execute_result",
          "data": {
            "text/plain": [
              "<rdkit.Chem.rdchem.Mol at 0x7a6016d018c0>"
            ],
            "image/png": "[encoded data removed]"
          },
          "metadata": {},
          "execution_count": 13
        }
      ],
      "execution_count": 13
    },
    {
      "cell_type": "markdown",
      "id": "fe1847ba",
      "metadata": {
        "id": "fe1847ba"
      },
      "source": [
        "If we modify the recursive SMARTS to add another term with an AND condition **&$(\\[CD3\\])**, the new recursive SMARTS only matches carbonyl groups with 3 connected heavy atoms (degree 3)."
      ]
    },
    {
      "cell_type": "code",
      "id": "78b4f72c",
      "metadata": {
        "ExecuteTime": {
          "end_time": "2025-05-05T16:56:06.165727Z",
          "start_time": "2025-05-05T16:56:06.161087Z"
        },
        "id": "78b4f72c",
        "outputId": "e13fe282-66f2-4243-f777-02316dfb52ab",
        "colab": {
          "base_uri": "https://localhost:8080/",
          "height": 167
        }
      },
      "source": [
        "combo_query = Chem.MolFromSmarts(\"[$(C=O)&$([CD3])]\")\n",
        "m1.GetSubstructMatches(combo_query)\n",
        "m1"
      ],
      "outputs": [
        {
          "output_type": "execute_result",
          "data": {
            "text/plain": [
              "<rdkit.Chem.rdchem.Mol at 0x7a6016d018c0>"
            ],
            "image/png": "[encoded data removed]"
          },
          "metadata": {},
          "execution_count": 14
        }
      ],
      "execution_count": 14
    },
    {
      "cell_type": "markdown",
      "id": "af0373d5",
      "metadata": {
        "id": "af0373d5"
      },
      "source": [
        "Recursive SMARTS can also represent a NOT condition by specifying a **\"!\"** operator.  If we modify the recursive SMARTS above and chage the second part to **&!$(\\[CD3\\])**, the SMARTS matches carbonyl groups that **do not** have 3 connected heavy atoms."
      ]
    },
    {
      "cell_type": "code",
      "id": "772c7dc2",
      "metadata": {
        "ExecuteTime": {
          "end_time": "2025-05-05T16:56:06.178751Z",
          "start_time": "2025-05-05T16:56:06.173866Z"
        },
        "id": "772c7dc2",
        "outputId": "fccf43f3-3224-4616-b847-e05ebc21a433",
        "colab": {
          "base_uri": "https://localhost:8080/",
          "height": 167
        }
      },
      "source": [
        "not_query = Chem.MolFromSmarts('[$(C=O)&!$([CD3])]')\n",
        "m1.GetSubstructMatches(not_query)\n",
        "m1"
      ],
      "outputs": [
        {
          "output_type": "execute_result",
          "data": {
            "text/plain": [
              "<rdkit.Chem.rdchem.Mol at 0x7a6016d018c0>"
            ],
            "image/png": "[encoded data removed]"
          },
          "metadata": {},
          "execution_count": 15
        }
      ],
      "execution_count": 15
    },
    {
      "cell_type": "markdown",
      "id": "019a5223",
      "metadata": {
        "id": "019a5223"
      },
      "source": [
        "Recursive SMARTS also provide a convenient means of handling cases where multiple possibilities exist.  As an example consider nitro groups. Show below are three different ways of representing a nitro group.  Let's say we're designing a functional group filter and we want to be able to catch any of the three representations below.  First let's create three versions of nitrobenzene with different nitro representations."
      ]
    },
    {
      "cell_type": "code",
      "id": "12e948de",
      "metadata": {
        "ExecuteTime": {
          "end_time": "2025-05-05T16:56:06.193876Z",
          "start_time": "2025-05-05T16:56:06.186758Z"
        },
        "id": "12e948de",
        "outputId": "2d6158ec-5b04-489d-dd67-5b91944ae576",
        "colab": {
          "base_uri": "https://localhost:8080/",
          "height": 217
        }
      },
      "source": [
        "nitro_smi_list = [\"c1ccccc1N(=O)(=O)\",\"c1ccccc1[N+2]([O-])([O-])\",\"c1ccccc1[N+](=O)([O-])\"]\n",
        "# In the following line, \"sanitize = False\" is used to prevent RDKit from altering the nitro groups while parsing the molecule. This allows the three different representations of the nitro group to be preserved and shown. However, the example also works without disabling sanitization.\n",
        "nitro_mol_list = [Chem.MolFromSmiles(x, sanitize = False) for x in nitro_smi_list]\n",
        "MolsToGridImage(nitro_mol_list)"
      ],
      "outputs": [
        {
          "output_type": "execute_result",
          "data": {
            "image/png": "[encoded data removed]",
            "text/plain": [
              "<IPython.core.display.Image object>"
            ]
          },
          "metadata": {},
          "execution_count": 16
        }
      ],
      "execution_count": 16
    },
    {
      "cell_type": "markdown",
      "id": "0a6b69dc",
      "metadata": {
        "id": "0a6b69dc"
      },
      "source": [
        "We can then define a recursive SMARTS query which combines the three representation with a **\",\"** representing an \"or\" condition.  The initial **\"N;\"** isn't strictly necessary, but I like writing the SMARTS this way to remind myself that I'm matching a single nitrogen."
      ]
    },
    {
      "cell_type": "code",
      "id": "21fcc0b6",
      "metadata": {
        "ExecuteTime": {
          "end_time": "2025-05-05T16:56:06.200769Z",
          "start_time": "2025-05-05T16:56:06.199262Z"
        },
        "id": "21fcc0b6"
      },
      "source": [
        "nitro_query = Chem.MolFromSmarts(\"[N;$([N](=O)(=O)),$([N+2]([O-])([O-])),$([N+](=O)([O-]))]\")"
      ],
      "outputs": [],
      "execution_count": 17
    },
    {
      "cell_type": "code",
      "id": "31c463ba",
      "metadata": {
        "ExecuteTime": {
          "end_time": "2025-05-05T16:56:06.206260Z",
          "start_time": "2025-05-05T16:56:06.204657Z"
        },
        "id": "31c463ba"
      },
      "source": [
        "hal = [x.GetSubstructMatches(nitro_query)[0] for x in nitro_mol_list]"
      ],
      "outputs": [],
      "execution_count": 18
    },
    {
      "cell_type": "code",
      "id": "a3b2490b",
      "metadata": {
        "ExecuteTime": {
          "end_time": "2025-05-05T16:56:06.216793Z",
          "start_time": "2025-05-05T16:56:06.209961Z"
        },
        "id": "a3b2490b",
        "outputId": "2509c8d2-9e24-4c47-d405-98b73ea7b7b3",
        "colab": {
          "base_uri": "https://localhost:8080/",
          "height": 217
        }
      },
      "source": [
        "MolsToGridImage(nitro_mol_list, highlightAtomLists=hal)"
      ],
      "outputs": [
        {
          "output_type": "execute_result",
          "data": {
            "image/png": "[encoded data removed]",
            "text/plain": [
              "<IPython.core.display.Image object>"
            ]
          },
          "metadata": {},
          "execution_count": 19
        }
      ],
      "execution_count": 19
    },
    {
      "cell_type": "markdown",
      "source": [
        "**Core** **idea**:\n",
        "Recursive SMARTS ([$(...)]) tests one atom by embedding a SMARTS subpattern that inspects its neighbors or broader environment.\n",
        "\n",
        "**Syntax** **reminder**:\n",
        "Always wrap your subpattern in [$(...)]; nothing outside those parentheses affects matching that atom.\n",
        "\n",
        "**Context** **over** **count**:\n",
        "Use recursive SMARTS when atom‑centric context matters (e.g. “this carbon only if it’s bonded to two heteroatoms”), not for mapping entire substructures.\n",
        "\n",
        "**Minimalism**:\n",
        "Keep the subpattern inside $(...) as small as will suffice—overly broad recursion hurts readability and speed.\n",
        "\n",
        "**Atom** **index** **labeling**:\n",
        "RDKit will return the index of the single atom that satisfies your recursive pattern, making it perfect for per‑atom annotations."
      ],
      "metadata": {
        "id": "u-izdcLgP4c5"
      },
      "id": "u-izdcLgP4c5"
    },
    {
      "cell_type": "code",
      "source": [],
      "metadata": {
        "id": "FdLo4wXKQNje"
      },
      "id": "FdLo4wXKQNje",
      "execution_count": null,
      "outputs": []
    }
  ],
  "metadata": {
    "kernelspec": {
      "display_name": "Python 3 (ipykernel)",
      "language": "python",
      "name": "python3"
    },
    "language_info": {
      "codemirror_mode": {
        "name": "ipython",
        "version": 3
      },
      "file_extension": ".py",
      "mimetype": "text/x-python",
      "name": "python",
      "nbconvert_exporter": "python",
      "pygments_lexer": "ipython3",
      "version": "3.13.1"
    },
    "colab": {
      "provenance": []
    }
  },
  "nbformat": 4,
  "nbformat_minor": 5
}